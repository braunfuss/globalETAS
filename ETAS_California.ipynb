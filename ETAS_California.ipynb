{
 "cells": [
  {
   "cell_type": "code",
   "execution_count": null,
   "metadata": {
    "collapsed": true
   },
   "outputs": [],
   "source": []
  },
  {
   "cell_type": "markdown",
   "metadata": {},
   "source": [
    "### ETAS: Norcal 2016\n",
    "#### 2016-12-06 22:03:32 (UTC) m=6.5\n",
    "\n",
    "event_date: 2016-12-08 14:49:46 (UTC)\n",
    "Location\n",
    "\n",
    "40.475°N 126.153°W\n",
    "\n",
    "Depth\n",
    "\n",
    "12.1 km\n"
   ]
  },
  {
   "cell_type": "code",
   "execution_count": null,
   "metadata": {
    "collapsed": false
   },
   "outputs": [],
   "source": [
    "#\n",
    "%load_ext autoreload\n",
    "%autoreload 2\n",
    "%matplotlib inline"
   ]
  },
  {
   "cell_type": "code",
   "execution_count": null,
   "metadata": {
    "collapsed": false,
    "scrolled": true
   },
   "outputs": [],
   "source": [
    "import datetime as dtm\n",
    "import matplotlib.dates as mpd\n",
    "import pytz\n",
    "tzutc = pytz.timezone('UTC')\n",
    "\n",
    "#import operator\n",
    "import math\n",
    "import random\n",
    "import numpy\n",
    "import scipy\n",
    "import scipy.optimize as spo\n",
    "from scipy import interpolate\n",
    "import itertools\n",
    "import sys\n",
    "#import scipy.optimize as spo\n",
    "import os\n",
    "import operator\n",
    "#from PIL import Image as ipp\n",
    "import multiprocessing as mpp\n",
    "#\n",
    "import matplotlib\n",
    "import matplotlib.pyplot as plt\n",
    "import matplotlib as mpl\n",
    "from mpl_toolkits.mplot3d import Axes3D\n",
    "import json\n",
    "import pickle\n",
    "#\n",
    "import geopy.distance\n",
    "#from geopy.distance import vincenty\n",
    "#from geopy.distance import great_circle\n",
    "#\n",
    "#import shapely.geometry as sgp\n",
    "#\n",
    "from mpl_toolkits.basemap import Basemap as Basemap\n",
    "from matplotlib.backends.backend_agg import FigureCanvasAgg as FigureCanvas\n",
    "from geographiclib.geodesic import Geodesic as ggp\n",
    "#\n",
    "#import ANSStools as atp\n",
    "from yodiipy import ANSStools as atp\n",
    "#\n",
    "import contours2kml\n",
    "import globalETAS as gep\n",
    "import global_etas_auto as ggep\n",
    "from eq_params import *\n",
    "#\n",
    "from nepal_figs import *\n",
    "import optimizers\n",
    "#\n",
    "import random\n",
    "import geopy\n",
    "\n",
    "#\n",
    "# on a fresh linux install... (can we script this?)\n",
    "# stuff we have to do besides just clone this:\n",
    "# pip install geopy\n",
    "# conda install basemap\n",
    "# pip install geographiclib\n",
    "# conda install -c ioos rtree\n"
   ]
  },
  {
   "cell_type": "code",
   "execution_count": null,
   "metadata": {
    "collapsed": true
   },
   "outputs": [],
   "source": [
    "# event was some time on the 24th or maybe late the 23rd. this, plus defaults, should find the event:\n",
    "#to_dt = dtm.datetime(2016,8,25, tzinfo=pytz.timezone('UTC'))\n",
    "to_dt = dtm.datetime.now(pytz.timezone('UTC'))\n",
    "#\n",
    "Lr_factor = 10.\n",
    "# define these from the t_now in the actual etas object, in the event that we load it from pickle,\n",
    "#  rather than calc it here.\n",
    "#f_path = '/home/myoder/Dropbox/Research/etas/italy_2016_10/etas_{}'.format(to_dt)\n",
    "#f_root = 'etas_2016'\n",
    "#\n",
    "# USGS:\n",
    "# italy\n",
    "#lat0 = 42.934\n",
    "#lon0 = 13.043\n",
    "#t0   = dtm.datetime(2016, 10, 26, 19, 18, 8, tzinfo=pytz.timezone('UTC'))\n",
    "#m0   = 6.1\n",
    "#\n",
    "# newest event:\n",
    "# 2016-12-06 22:03:32 (UTC)\n",
    "# 5.281°N 96.108°E\n",
    "t0 = dtm.datetime(2016, 12, 6, 22, 3, 32, tzinfo=pytz.timezone('UTC'))\n",
    "t_ms = t0\n",
    "to_dt = dtm.datetime.now(pytz.utc)\n",
    "#Location\n",
    "lat0 = 40.475\n",
    "#lon0 = -126.153\n",
    "lon0 = -125.15\n",
    "m0 = 6.5\n",
    "#d_lat=5.\n",
    "#d_lon=5.\n",
    "#lats = [lat0-d_lat, lat0+d_lat]\n",
    "#lons = [lon0-d_lon, lon0+d_lon]\n",
    "#lats:  30.50555 43.25015\n",
    "#lons:  -125.9675 -113.5415\n",
    "lats = [30.5, 43.25]\n",
    "lons = [-126., -113.5 ]\n",
    "#to_dt = t0-dtm.timedelta(hours=2)\n",
    "#to_dt = dtm.datetime.now(pytz.utc)\n",
    "#"
   ]
  },
  {
   "cell_type": "code",
   "execution_count": null,
   "metadata": {
    "collapsed": false
   },
   "outputs": [],
   "source": [
    "# date_range = [dtm.datetime.now(dtm.timezone.utc)-dtm.timedelta(days=3650), dtm.datetime.now(dtm.timezone.utc)]\n",
    "# #lons = [-124., -115]\n",
    "# #lats = [31., 37.]\n",
    "\n",
    "# #lats[1]=35.\n",
    "# #lons[0] = -120.\n",
    "# #\n",
    "# print('lats: {}'.format(lats))\n",
    "# print('lons: {}'.format(lons))\n",
    "# print('dates: {}'.format(date_range))\n",
    "\n",
    "# cc=atp.catfromANSS(lat=lats, lon=lons, dates0=date_range, minMag=2.5)\n",
    "# print('len(cc): {}'.format(len(cc)))\n",
    "\n"
   ]
  },
  {
   "cell_type": "code",
   "execution_count": null,
   "metadata": {
    "collapsed": false
   },
   "outputs": [],
   "source": [
    "#etas = ggep.auto_etas(to_dt=to_dt, Lr_factor=Lr_factor, dt_0=5)\n",
    "\n",
    "eq_prams = {'do_recarray': True, 'D_fract': 1.5,\n",
    "               't_0':dtm.datetime(1990, 1, 1, 0, 0, tzinfo=pytz.timezone('UTC')),\n",
    "               't_now':to_dt, \n",
    "               'lats': lats, 'p': 1.1, 'b1': 1.0, 'mc': 1.5, 'q': 1.5,\n",
    "               'lons': lons, 'dmstar': 1.0, 'b2': 1.5, 'd_tau': 2.28,\n",
    "               'incat': None, 'fit_factor': 2.0, 'd_lambda': 1.76,\n",
    "            'etas_range_factor':30, 'etas_range_padding':1.5, 'ab_ratio_expon':.5 }\n",
    "\n",
    "# prototype of GlobalNet NZ catalog:\n",
    "#nz_cat0 = test_cat = atp.cat_from_geonet(lats=lats, lons=lons, m_c=2.5, date_from=dtm.datetime(2000,1,1,tzinfo=atp.tzutc),\n",
    "#                              date_to=dtm.datetime.now(atp.tzutc))\n",
    "#nz_cat = gep.make_ETAS_catalog_mpp(incat=nz_cat0)\n"
   ]
  },
  {
   "cell_type": "code",
   "execution_count": null,
   "metadata": {
    "collapsed": false,
    "scrolled": false
   },
   "outputs": [],
   "source": [
    "#etas = gep.ETAS_mpp(n_cpu=2*mpp.cpu_count(), catalog=nz_cat, **eq_prams)\n",
    "etas = gep.ETAS_mpp(n_cpu=2*mpp.cpu_count(), catalog=None, **eq_prams)\n",
    "#\n",
    "# we've run this; we can reload it from pickle:\n",
    "#with open('data/etas_201610.pkl', 'rb') as fin:\n",
    "#    etas = pickle.load(fin)\n",
    "#"
   ]
  },
  {
   "cell_type": "code",
   "execution_count": null,
   "metadata": {
    "collapsed": false,
    "scrolled": true
   },
   "outputs": [],
   "source": [
    "event_name = 'Cali_general'\n",
    "f_path = '/home/myoder/Dropbox/Research/etas/{}/etas_{}'.format(event_name, etas.t_now)\n",
    "f_root = 'etas_{}'.format(event_name)\n",
    "\n",
    "#print(etas.t0, etas.t_now, etas.t_forecast, etas.catalog[-1])\n",
    "print(to_dt)\n",
    "print(etas.t_0, mpd.num2date(etas.t_forecast), etas.t_now, t_ms)\n",
    "#print(etas.catalog[-5:])"
   ]
  },
  {
   "cell_type": "code",
   "execution_count": null,
   "metadata": {
    "collapsed": false
   },
   "outputs": [],
   "source": [
    "fg=plt.figure(0, figsize=(12,10))\n",
    "ax=plt.gca()\n",
    "etas.make_etas_contour_map(n_contours=25, fignum=0, map_resolution='f', alpha=.3, ax=ax)\n",
    "#\n",
    "#mainshock = sorted(etas.catalog, key=lambda rw: rw['mag'])[-1]\n",
    "#print('mainshock: ', mainshock)\n",
    "# get mainshock. it's an m>6 event in the last week or so... this is subjective.\n",
    "# if we just look for the biggest event, we get the L'Aquila event, so we'll need to be more creative...\n",
    "# or just specify it.\n",
    "\n",
    "mainshock = etas.catalog[-1]\n",
    "for j,eq in enumerate(reversed(etas.catalog)):\n",
    "    #print('*** ', pytz.utc.localize(eq['event_date'].astype(dtm.datetime)))\n",
    "    if pytz.utc.localize(eq['event_date'].astype(dtm.datetime))<etas.t_now-dtm.timedelta(days=180): break\n",
    "    if eq['mag']>mainshock['mag']:\n",
    "        mainshock = eq\n",
    "        #\n",
    "    #\n",
    "#\n",
    "print('ms: ', mainshock, mainshock['lon'], mainshock['lat'])\n",
    "x,y = etas.cm(mainshock['lon'], mainshock['lat'])\n",
    "\n",
    "#print('mm: ', max(etas.catalog['mag']))\n",
    "#\n",
    "# let's get everything m>6 in the last 6 months?\n",
    "m6s = [rw for rw in etas.catalog if rw['mag'] >= 5.5\n",
    "       and pytz.utc.localize(rw['event_date'].astype(dtm.datetime))>t_ms-dtm.timedelta(days=180)]\n",
    "\n",
    "# plot mainshock:\n",
    "dt = mainshock['event_date'].astype(dtm.datetime)\n",
    "dt=t0\n",
    "dt_str = '{}-{}-{} {}:{}:{}'.format(dt.year, dt.month, dt.day, dt.hour, dt.minute, dt.second)\n",
    "#etas.cm.plot([x], [y], latlon=False, marker='*', color='r', ms=16, zorder=11,\n",
    "#                   label='m={}, {}'.format(mainshock['mag'], dt_str))\n",
    "etas.cm.plot([lon0], [lat0], latlon=False, marker='*', color='r', ms=16, zorder=11,\n",
    "                   label='m={}, *{}*'.format(m0, dt_str))\n",
    "\n",
    "ax.set_title('ETAS: {},\\n{}\\n\\n'.format(event_name, etas.t_now), size=16)\n",
    "for j,m6 in enumerate(m6s):\n",
    "    clr = colors_[j%len(colors_)]\n",
    "    #\n",
    "    dt = m6['event_date'].astype(dtm.datetime)\n",
    "    dt_str = '{}-{}-{} {}:{}:{}'.format(dt.year, dt.month, dt.day, dt.hour, dt.minute, dt.second)\n",
    "    etas.cm.scatter(m6['lon'], m6['lat'], s=3*(m6['mag']+12.), edgecolors=clr, \n",
    "                          c='none', marker='o', zorder=11, label='m={}, {}'.format(m6['mag'], dt_str))\n",
    "    #\n",
    "plt.gca().legend(loc=0)"
   ]
  },
  {
   "cell_type": "code",
   "execution_count": null,
   "metadata": {
    "collapsed": false,
    "scrolled": false
   },
   "outputs": [],
   "source": [
    "plt.figure(figsize=(10,6))\n",
    "plt.clf()\n",
    "ax1 = plt.subplot('211')\n",
    "ax2 = plt.subplot('212', sharex=ax1)\n",
    "#ax1.plot(etas.catalog['event_date'], etas.catalog['mag'], marker='.', ls='-', label='mag')\n",
    "f_dates = [mpd.date2num(x.astype(dtm.datetime)) for x in etas.catalog['event_date']]\n",
    "ax1.vlines(f_dates, (min(etas.catalog['mag'])-.5)*numpy.ones(len(etas.catalog)), \n",
    "           etas.catalog['mag'], lw=2., label='mag', color='b')\n",
    "ax2.plot(f_dates[1:], numpy.diff(f_dates,1), '.-')\n",
    "\n",
    "ax2.set_ylabel('intervals $\\Delta t$')\n",
    "ax1.set_ylabel('magnitudes $m$')"
   ]
  },
  {
   "cell_type": "code",
   "execution_count": null,
   "metadata": {
    "collapsed": false,
    "scrolled": false
   },
   "outputs": [],
   "source": [
    "fg=plt.figure(0, figsize=(12,10))\n",
    "ax=plt.gca()\n",
    "etas.make_etas_contour_map(n_contours=25, fignum=0, map_resolution='f', alpha=.3, ax=ax)\n",
    "\n",
    "#\n",
    "# let's get everything m>6 in the last 6 months?\n",
    "m6s = [rw for rw in etas.catalog if rw['mag'] >= 5.5 \n",
    "       and pytz.utc.localize(rw['event_date'].astype(dtm.datetime))>to_dt-dtm.timedelta(days=120)]\n",
    "#\n",
    "# plot mainshock:\n",
    "dt = mainshock['event_date'].astype(dtm.datetime)\n",
    "etas.cm.plot([x], [y], latlon=False, marker='*', color='r', ms=16, zorder=11,\n",
    "                   label='m={}, {}'.format(mainshock['mag'], dt_str))\n",
    "ax.set_title('ETAS: {}, {}\\n\\n'.format(event_name, etas.t_now), size=16)\n",
    "for j,m6 in enumerate(m6s):\n",
    "    clr = colors_[j%len(colors_)]\n",
    "    #\n",
    "    dt = m6['event_date'].astype(dtm.datetime)\n",
    "    dt_str = '{}-{}-{} {}:{}:{}'.format(dt.year, dt.month, dt.day, dt.hour, dt.minute, dt.second)\n",
    "    etas.cm.scatter(m6['lon'], m6['lat'], s=3*(m6['mag']+12.), edgecolors=clr, \n",
    "                          c='none', marker='o', zorder=11, label='m={}, {}'.format(m6['mag'], dt_str))\n",
    "    #\n",
    "plt.gca().legend(loc=0)"
   ]
  },
  {
   "cell_type": "code",
   "execution_count": null,
   "metadata": {
    "collapsed": false
   },
   "outputs": [],
   "source": [
    "for rw in m6s:\n",
    "    print(rw)"
   ]
  },
  {
   "cell_type": "code",
   "execution_count": null,
   "metadata": {
    "collapsed": false
   },
   "outputs": [],
   "source": [
    "## hey, pickling works with the new ETAS objects (or at least it appears to...):\n",
    "# with open('data/etas_201610.pkl', 'wb') as fpkl:\n",
    "#     pickle.dump( etas, fpkl)    \n",
    "#\n",
    "#with open('data/etas_201610.pkl', 'rb') as fin:\n",
    "#    etas2 = pickle.load(fin)\n",
    "#\n",
    "#print(etas2.catalog[0:5])\n",
    "# TODO: we want the datetime part of the filename to come from the etas object itself, for purposes of\n",
    "# integrity. BUT, we want this script to be a bit more portable, so we should replace all the etas\n",
    "# references/object name to just 'etas'\n",
    "#\n",
    "etas.export_kml(os.path.join(f_path, '{}_{}.kml'.format(f_root, str(etas.t_now).replace(' ', '_'))), \n",
    "                kml_contours_bottom=.25, kml_contours_top=1.0)\n",
    "etas.export_xyz(os.path.join(f_path, '{}_{}.xyz'.format(f_root, str(etas.t_now).replace(' ', '_'))))\n",
    "fg.savefig(os.path.join(f_path, '{}_{}.png'.format(f_root, str(etas.t_now).replace(' ', '_'))))\n",
    "\n",
    "with open (os.path.join(f_path, '{}_{}.pkl'.format(f_root, str(etas.t_now).replace(' ', '_'))), 'wb') as fpkl:\n",
    "    pickle.dump(etas, fpkl)\n"
   ]
  },
  {
   "cell_type": "code",
   "execution_count": null,
   "metadata": {
    "collapsed": false
   },
   "outputs": [],
   "source": [
    "plt.figure(figsize=(8,5))\n",
    "plt.clf()\n",
    "ax1=plt.subplot('121')\n",
    "ax2=plt.subplot('122')\n",
    "ax1.plot(etas.catalog['lon'], etas.catalog['lat'], ',')\n",
    "ax1.plot([mainshock['lon']], [mainshock['lat']], marker='*', color='r', ms=16, zorder=11)\n",
    "#\n",
    "ax2.plot([m for m in reversed(sorted(etas.catalog['mag']))], numpy.arange(1,len(etas.catalog)+1),\n",
    "         '.-', lw=2.)\n",
    "ax2.set_yscale('log')"
   ]
  },
  {
   "cell_type": "code",
   "execution_count": null,
   "metadata": {
    "collapsed": false
   },
   "outputs": [],
   "source": [
    "#print(etas.mc, etas.mc_etas)"
   ]
  },
  {
   "cell_type": "code",
   "execution_count": null,
   "metadata": {
    "collapsed": true
   },
   "outputs": [],
   "source": []
  },
  {
   "cell_type": "code",
   "execution_count": null,
   "metadata": {
    "collapsed": false
   },
   "outputs": [],
   "source": [
    "# plot a cross-section of ETAS. let's get smart about this and do a PCA on the xyz field...\n",
    "#\n",
    "#plt.figure()\n",
    "##my_xy = [[x,y,z] for x,y in zip(etas.catalog['lon'], etas['lat']) if x>=42.25 and x<=42.75]\n",
    "#my_xyz = [[x,y,z] for x,y,z in etas.ETAS_array if y>=42.25 and y<=42.75]\n",
    "#plt.figure(figsize=(8,6))\n",
    "#plt.plot([x for x,y,z in my_xyz ], [z for x,y,z in my_xyz], '.')"
   ]
  },
  {
   "cell_type": "code",
   "execution_count": null,
   "metadata": {
    "collapsed": false
   },
   "outputs": [],
   "source": [
    "mycat = atp.catfromANSS(lon=lons, lat=lats, minMag=2.5,\n",
    "                        dates0=[dtm.datetime(2005,1,1, tzinfo=tzutc), None], Nmax=None, fout=None, rec_array=True)\n"
   ]
  },
  {
   "cell_type": "code",
   "execution_count": null,
   "metadata": {
    "collapsed": false
   },
   "outputs": [],
   "source": [
    "test_cat = atp.catfromANSS(lat=lats, lon=lons, minMag=1.5,\n",
    "                           dates0=[dtm.datetime(1990,1,1, tzinfo=pytz.utc), dtm.datetime.now(pytz.utc)])\n",
    "\n",
    "\n",
    "plt.figure()\n",
    "plt.clf()\n",
    "#plt.plot(test_cat['lon'], test_cat['lat'], '.')\n",
    "print(test_cat[-5:])\n",
    "print(max(test_cat['event_date']))\n",
    "\n",
    "plt.figure(figsize=(8,5))\n",
    "plt.clf()\n",
    "ax1=plt.subplot('121')\n",
    "ax2=plt.subplot('122')\n",
    "ax1.plot(test_cat['lon'], test_cat['lat'], ',')\n",
    "ax1.plot([mainshock['lon']], [mainshock['lat']], marker='*', color='r', ms=16, zorder=11)\n",
    "#\n",
    "ax2.plot([m for m in reversed(sorted(test_cat['mag']))], numpy.arange(1,len(test_cat)+1),\n",
    "         '.-', lw=2.)\n",
    "ax2.set_yscale('log')"
   ]
  },
  {
   "cell_type": "code",
   "execution_count": null,
   "metadata": {
    "collapsed": false
   },
   "outputs": [],
   "source": [
    "#test_cat = atp.cat_from_geonet(lats=lats, lons=lons, m_c=2.5, date_from=dtm.datetime(2000,1,1,tzinfo=atp.tzutc),\n",
    "                              date_to=dtm.datetime.now(atp.tzutc))"
   ]
  }
 ],
 "metadata": {
  "anaconda-cloud": {},
  "kernelspec": {
   "display_name": "Python 3",
   "language": "python",
   "name": "python3"
  },
  "language_info": {
   "codemirror_mode": {
    "name": "ipython",
    "version": 3
   },
   "file_extension": ".py",
   "mimetype": "text/x-python",
   "name": "python",
   "nbconvert_exporter": "python",
   "pygments_lexer": "ipython3",
   "version": "3.6.0"
  }
 },
 "nbformat": 4,
 "nbformat_minor": 0
}
