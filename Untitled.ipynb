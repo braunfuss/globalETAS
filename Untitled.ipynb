{
 "cells": [
  {
   "cell_type": "code",
   "execution_count": 1,
   "metadata": {
    "collapsed": true
   },
   "outputs": [],
   "source": [
    "%load_ext autoreload\n",
    "%autoreload 2\n",
    "%matplotlib inline\n",
    "\n"
   ]
  },
  {
   "cell_type": "code",
   "execution_count": null,
   "metadata": {
    "collapsed": true
   },
   "outputs": [],
   "source": [
    "import pickle\n",
    "import datetime as dtm\n",
    "import pytz"
   ]
  },
  {
   "cell_type": "code",
   "execution_count": 16,
   "metadata": {
    "collapsed": false
   },
   "outputs": [],
   "source": [
    "with open('data/etas_italy_201610.pkl', 'rb') as fin:\n",
    "    etas_italy = pickle.load(fin)"
   ]
  },
  {
   "cell_type": "code",
   "execution_count": 21,
   "metadata": {
    "collapsed": false
   },
   "outputs": [
    {
     "name": "stdout",
     "output_type": "stream",
     "text": [
      "2016-10-27 23:47:28.123714+00:00\n",
      "2011-10-29 23:47:28.123714+00:00 1990-01-01 00:00:00+00:00\n",
      "my_dt: 2016-10-30 14:31:34.093425+00:00\n"
     ]
    }
   ],
   "source": [
    "print(etas_italy.t_now)\n",
    "print(etas_italy.t0, etas_italy.t_0)\n",
    "\n",
    "my_dt=dtm.datetime.now(pytz.utc)\n",
    "print('my_dt: {}'.format(my_dt))\n",
    "\n",
    "#to_dt = dtm.datetime(2016,8,25, tzinfo=pytz.timezone('UTC'))\n",
    "#to_dt = dtm.datetime.now(pytz.timezone('UTC'))\n",
    "#\n",
    "to_dt = etas_italy.t_now\n"
   ]
  },
  {
   "cell_type": "code",
   "execution_count": 24,
   "metadata": {
    "collapsed": false
   },
   "outputs": [],
   "source": [
    "m6s = [rw for rw in etas_italy.catalog if rw['mag'] >= 5.5 \n",
    "       and pytz.utc.localize(rw['event_date'].astype(dtm.datetime))>to_dt-dtm.timedelta(days=30)]\n"
   ]
  },
  {
   "cell_type": "code",
   "execution_count": 23,
   "metadata": {
    "collapsed": false
   },
   "outputs": [
    {
     "name": "stdout",
     "output_type": "stream",
     "text": [
      "1990-09-02T19:27:00.350000-0500\n",
      "dts:: local: 2012-05-31T09:58:21.000000-0500, utc: 2012-05-31 14:58:21\n"
     ]
    }
   ],
   "source": [
    "print(etas_italy.catalog['event_date'][100])\n",
    "dt=etas_italy.catalog['event_date'][-100]\n",
    "print('dts:: local: {}, utc: {}'.format(dt, dt.astype(dtm.datetime)))"
   ]
  },
  {
   "cell_type": "code",
   "execution_count": 14,
   "metadata": {
    "collapsed": false
   },
   "outputs": [
    {
     "name": "stdout",
     "output_type": "stream",
     "text": [
      "2012-05-31 14:58:21\n"
     ]
    }
   ],
   "source": [
    "print(dt.astype(dtm.datetime))"
   ]
  },
  {
   "cell_type": "code",
   "execution_count": 18,
   "metadata": {
    "collapsed": false
   },
   "outputs": [
    {
     "data": {
      "text/plain": [
       "datetime.datetime(2012, 5, 31, 14, 58, 21, tzinfo=<UTC>)"
      ]
     },
     "execution_count": 18,
     "metadata": {},
     "output_type": "execute_result"
    }
   ],
   "source": [
    "pytz.utc.localize(dt.astype(dtm.datetime))\n"
   ]
  },
  {
   "cell_type": "code",
   "execution_count": 33,
   "metadata": {
    "collapsed": false
   },
   "outputs": [
    {
     "name": "stdout",
     "output_type": "stream",
     "text": [
      "times: 1477847134.2915013 :: 1446290398.2915013 // 31556736.0\n",
      "fl:  ./data/roc_geospatial_nepal_q11_24_11_24.csv\n",
      "stat: os.stat_result(st_mode=33188, st_ino=8521131, st_dev=2056, st_nlink=1, st_uid=1000, st_gid=1000, st_size=7423, st_atime=1471122236, st_mtime=1456027251, st_ctime=1456027251)\n",
      "fl:  ./data/etas_italy_201610.pkl\n",
      "stat: os.stat_result(st_mode=33188, st_ino=8521794, st_dev=2056, st_nlink=1, st_uid=1000, st_gid=1000, st_size=18065292, st_atime=1477762726, st_mtime=1477762627, st_ctime=1477762627)\n",
      "fl:  ./data/global_xyz_20151129.xyz\n",
      "stat: os.stat_result(st_mode=33188, st_ino=8520461, st_dev=2056, st_nlink=1, st_uid=1000, st_gid=1000, st_size=161483668, st_atime=1470203814, st_mtime=1448944407, st_ctime=1453957383)\n",
      "fl:  ./data/roc_geospatial_nepal_raw.csv\n",
      "stat: os.stat_result(st_mode=33188, st_ino=8521148, st_dev=2056, st_nlink=1, st_uid=1000, st_gid=1000, st_size=23656, st_atime=1471122236, st_mtime=1456151063, st_ctime=1456667765)\n",
      "fl:  ./data/nepal_etas_xyz.csv\n",
      "stat: os.stat_result(st_mode=33188, st_ino=8520434, st_dev=2056, st_nlink=1, st_uid=1000, st_gid=1000, st_size=330030, st_atime=1471122235, st_mtime=1453102948, st_ctime=1453102948)\n",
      "fl:  ./data/roc_geospatial_fast_q35.csv\n",
      "stat: os.stat_result(st_mode=33188, st_ino=8521204, st_dev=2056, st_nlink=1, st_uid=1000, st_gid=1000, st_size=21803, st_atime=1471122236, st_mtime=1456754337, st_ctime=1456754337)\n",
      "fl:  ./data/nepal_etas_20150507_b.xyz\n",
      "stat: os.stat_result(st_mode=33188, st_ino=8521546, st_dev=2056, st_nlink=1, st_uid=1000, st_gid=1000, st_size=587374, st_atime=1470203838, st_mtime=1468977725, st_ctime=1469155510)\n",
      "fl:  ./data/revisions_outputs\n",
      "stat: os.stat_result(st_mode=16877, st_ino=8521634, st_dev=2056, st_nlink=2, st_uid=1000, st_gid=1000, st_size=4096, st_atime=1477762633, st_mtime=1473114974, st_ctime=1473114974)\n"
     ]
    }
   ],
   "source": [
    "import glob\n",
    "import os\n",
    "import time\n",
    "\n",
    "t0 = time.time()\n",
    "#time.sleep(5)\n",
    "#t0a = time.time()\n",
    "t_minus = t0 - 3600.*24.*365.24\n",
    "\n",
    "\n",
    "print('times: {} :: {} // {}'.format(t0, t_minus, 3600*24.*365.24))\n",
    "\n",
    "fls = glob.glob('./data/*')\n",
    "for fl in fls:\n",
    "    print('fl: ', fl)\n",
    "    print('stat: {}'.format(os.stat(fl)))\n",
    "    stat = os.stat(fl)"
   ]
  },
  {
   "cell_type": "code",
   "execution_count": 34,
   "metadata": {
    "collapsed": false
   },
   "outputs": [
    {
     "data": {
      "text/plain": [
       "1473114974.9518657"
      ]
     },
     "execution_count": 34,
     "metadata": {},
     "output_type": "execute_result"
    }
   ],
   "source": [
    "stat.st_ctime"
   ]
  },
  {
   "cell_type": "code",
   "execution_count": 35,
   "metadata": {
    "collapsed": false
   },
   "outputs": [
    {
     "data": {
      "text/plain": [
       "(1473114974.9518657, 1473114974951865555)"
      ]
     },
     "execution_count": 35,
     "metadata": {},
     "output_type": "execute_result"
    }
   ],
   "source": [
    "stat.st_mtime, stat.st_mtime_ns"
   ]
  },
  {
   "cell_type": "code",
   "execution_count": null,
   "metadata": {
    "collapsed": true
   },
   "outputs": [],
   "source": []
  },
  {
   "cell_type": "code",
   "execution_count": null,
   "metadata": {
    "collapsed": true
   },
   "outputs": [],
   "source": []
  },
  {
   "cell_type": "code",
   "execution_count": null,
   "metadata": {
    "collapsed": true
   },
   "outputs": [],
   "source": []
  }
 ],
 "metadata": {
  "kernelspec": {
   "display_name": "Python 3",
   "language": "python",
   "name": "python3"
  },
  "language_info": {
   "codemirror_mode": {
    "name": "ipython",
    "version": 3
   },
   "file_extension": ".py",
   "mimetype": "text/x-python",
   "name": "python",
   "nbconvert_exporter": "python",
   "pygments_lexer": "ipython3",
   "version": "3.6.6"
  }
 },
 "nbformat": 4,
 "nbformat_minor": 0
}
